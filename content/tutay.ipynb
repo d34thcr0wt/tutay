{
  "metadata": {
    "kernelspec": {
      "name": "python",
      "display_name": "Python (Pyodide)",
      "language": "python"
    },
    "language_info": {
      "codemirror_mode": {
        "name": "python",
        "version": 3
      },
      "file_extension": ".py",
      "mimetype": "text/x-python",
      "name": "python",
      "nbconvert_exporter": "python",
      "pygments_lexer": "ipython3",
      "version": "3.8"
    }
  },
  "nbformat_minor": 4,
  "nbformat": 4,
  "cells": [
    {
      "cell_type": "code",
      "source": "\nimport piplite\nawait piplite.install('seaborn')\nawait piplite.install('pandas')\nawait piplite.install('matplotlib')\n\nimport pandas as pd\n\ndata = pd.read_csv('data/Salary_Data.csv')\n\ncorr_matrix = data.corr()\n\nsalary_corr = corr_matrix['Salary']\n\nimport seaborn as sns\nimport matplotlib.pyplot as plt\n\nsns.heatmap(corr_matrix, annot=True, cmap='coolwarm')\nplt.show()\n\nfrom sklearn.linear_model import LinearRegression\nfrom sklearn.metrics import r2_score\n\nvariables = ['YearsExperience']\n\nfor var in variables:\n    X = data[[var]]\n    Y = data['Salary']\n\nmodel = LinearRegression().fit(X, Y)\npredictions = model.predict(X)\n\nplt.figure(figsize=(8, 6))\nsns.scatterplot(data=data, x=var, y='Salary')\n\nline = model.intercept_ + model.coef_[0] * data[var]\nplt.plot(data[var], line, 'r', label=f'y={model.intercept_:.2f}+{model.coef_[0]:.2f}*x')\n\nprint(f\"\\nRegression equation for {var}:\")\nprint('Salary = ', model.intercept_, '+', model.coef_[0], '*', var)\nprint(f\"\\nR-squared for {var}: {r2_score(Y, predictions)}\")\n\nplt.legend()\nplt.title(f'Regression of {var} on Salary')\nplt.grid(True)\nplt.show()",
      "metadata": {
        "trusted": true
      },
      "outputs": [],
      "execution_count": null
    }
  ]
}